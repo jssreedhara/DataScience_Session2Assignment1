{
 "cells": [
  {
   "cell_type": "code",
   "execution_count": 24,
   "metadata": {},
   "outputs": [
    {
     "name": "stdout",
     "output_type": "stream",
     "text": [
      "Enter a sequence of comma-Separated numbers: 1,2,3,4,5,6,7,8,9,10\n",
      "        \n",
      "A sequence of numbers received and store in list are: ['1', '2', '3', '4', '5', '6', '7', '8', '9', '10']\n"
     ]
    }
   ],
   "source": [
    "#Assignment - 2nd Session\n",
    "# 1. Write a program which accepts a sequence of comma-separated numbers from console \n",
    "#and generate a list.\n",
    "\n",
    "#Recive numbers from Console and store in a String\n",
    "numList=input('Enter a sequence of comma-Separated numbers: ')\n",
    "\n",
    "#Split comma-Separated numbers and store in a list\n",
    "listnum=list(numList.split(','))\n",
    "\n",
    "#Print the list of numbers\n",
    "print('        ')\n",
    "print('A sequence of numbers received and store in list are:',listnum)"
   ]
  },
  {
   "cell_type": "code",
   "execution_count": 20,
   "metadata": {},
   "outputs": [
    {
     "name": "stdout",
     "output_type": "stream",
     "text": [
      "\n",
      "*\n",
      "**\n",
      "***\n",
      "****\n",
      "*****\n",
      "****\n",
      "***\n",
      "**\n",
      "*\n",
      "\n"
     ]
    }
   ],
   "source": [
    "#Assignment - 2nd Session\n",
    "#2. Create the below pattern using nested for loop in Python.\n",
    "#*\n",
    "#* *\n",
    "#* * *\n",
    "#* * * *\n",
    "#* * * * *\n",
    "#* * * *\n",
    "#* * *\n",
    "#* *\n",
    "#*\n",
    "#declare variables for reverse pattrens\n",
    "t=4\n",
    "#declare a variables to store a pattren\n",
    "pattren='*'\n",
    "\n",
    "#main loop to execute nested loop for forward and reverse pattren.\n",
    "for i in range(1):\n",
    "    #for forword pattren\n",
    "    for i in range(6):\n",
    "        print(pattren*i)\n",
    "    #for reverse pattren    \n",
    "    for n in range(5):\n",
    "        print(pattren*t)\n",
    "        t-=1\n",
    "    #Brake the main loop once pattren is done.\n",
    "    break"
   ]
  },
  {
   "cell_type": "code",
   "execution_count": 25,
   "metadata": {},
   "outputs": [
    {
     "name": "stdout",
     "output_type": "stream",
     "text": [
      "Enter a world AcadGild\n",
      "Reverse World is  dliGdacA\n"
     ]
    }
   ],
   "source": [
    "#Assignment - 2nd Session\n",
    "#3. Write a Python program to reverse a word after accepting the input from the user.\n",
    "#Sample Output:\n",
    "#Input word: AcadGild\n",
    "#Output: dliGdacA\n",
    "\n",
    "#Recive a word from user\n",
    "strWorld=input('Enter a world ')\n",
    "\n",
    "#Declare a veriables to Store Reversed world\n",
    "reversestrWorld=''\n",
    "\n",
    "#loop through and reverse a world.\n",
    "for str in strWorld:\n",
    "    reversestrWorld=str+ reversestrWorld\n",
    "\n",
    "#Print Reverse world\n",
    "print ('Reverse World is ',reversestrWorld)"
   ]
  },
  {
   "cell_type": "code",
   "execution_count": 26,
   "metadata": {},
   "outputs": [
    {
     "name": "stdout",
     "output_type": "stream",
     "text": [
      "WE, THE PEOPLE OF INDIA,\n",
      "\thaving solemnly resolved to constitute India into a SOVEREIGN, !\n",
      "\t\tSOCIALIST, SECULAR, DEMOCRATIC REPUBLIC\n",
      "\t\t and to secure to all its citizens\n"
     ]
    }
   ],
   "source": [
    "#Assignment - 2nd Session\n",
    "#4. Write a Python Program to print the given string in the format specified in the sample output\n",
    "\n",
    "#WE, THE PEOPLE OF INDIA, having solemnly resolved to constitute India into a SOVEREIGN,\n",
    "#SOCIALIST, SECULAR, DEMOCRATIC REPUBLIC and to secure to all its citizens\n",
    "\n",
    "#Sample Output:\n",
    "\n",
    "#WE, THE PEOPLE OF INDIA,\n",
    "    #having solemnly resolved to constitute India into a SOVEREIGN, !\n",
    "        #SOCIALIST, SECULAR, DEMOCRATIC REPUBLIC\n",
    "        # and to secure to all its citizens\n",
    "\n",
    "#Store the given string\n",
    "givenString='WE, THE PEOPLE OF INDIA, having solemnly resolved to constitute India into a SOVEREIGN,SOCIALIST, SECULAR, DEMOCRATIC REPUBLIC and to secure to all its citizens'\n",
    "\n",
    "#Format the given string using newline(\\n) and tab(\\t)\n",
    "givenString='WE, THE PEOPLE OF INDIA,\\n\\thaving solemnly resolved to constitute India into a SOVEREIGN, !\\n\\t\\tSOCIALIST, SECULAR, DEMOCRATIC REPUBLIC\\n\\t\\t and to secure to all its citizens'\n",
    "\n",
    "#print the formated string\n",
    "print (givenString)"
   ]
  }
 ],
 "metadata": {
  "kernelspec": {
   "display_name": "Python 3",
   "language": "python",
   "name": "python3"
  },
  "language_info": {
   "codemirror_mode": {
    "name": "ipython",
    "version": 3
   },
   "file_extension": ".py",
   "mimetype": "text/x-python",
   "name": "python",
   "nbconvert_exporter": "python",
   "pygments_lexer": "ipython3",
   "version": "3.6.5"
  }
 },
 "nbformat": 4,
 "nbformat_minor": 2
}
